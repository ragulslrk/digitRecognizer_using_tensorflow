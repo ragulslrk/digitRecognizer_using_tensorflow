{
 "cells": [
  {
   "cell_type": "code",
   "execution_count": 7,
   "id": "e9d14239",
   "metadata": {},
   "outputs": [],
   "source": [
    "import numpy as  np  \n",
    "import tensorflow as tf\n",
    "from  tensorflow import  keras  \n",
    "import  matplotlib.pyplot as plt \n"
   ]
  },
  {
   "cell_type": "code",
   "execution_count": 8,
   "id": "c0fcaf48",
   "metadata": {},
   "outputs": [],
   "source": [
    "# importing  the  minst dataset \n",
    "\n",
    "(x_train,y_train),(x_test,y_test)=keras.datasets.mnist.load_data()"
   ]
  },
  {
   "cell_type": "code",
   "execution_count": 13,
   "id": "f351424a",
   "metadata": {},
   "outputs": [
    {
     "data": {
      "text/plain": [
       "(60000, 28, 28)"
      ]
     },
     "execution_count": 13,
     "metadata": {},
     "output_type": "execute_result"
    }
   ],
   "source": [
    "x_train.shape"
   ]
  },
  {
   "cell_type": "code",
   "execution_count": 17,
   "id": "d6bdf0d9",
   "metadata": {},
   "outputs": [],
   "source": [
    "# converting  to  1 dimension\n",
    "x_train_flat=x_train.reshape(len(x_train),28*28)\n",
    "x_test_flat=x_test.reshape(len(x_test),28*28)\n",
    "\n"
   ]
  },
  {
   "cell_type": "code",
   "execution_count": 19,
   "id": "53fcb7d3",
   "metadata": {},
   "outputs": [],
   "source": [
    "# scaling the  data set \n",
    "x_train_flat=x_train_flat/255\n",
    "x_test_flat=x_test_flat/255"
   ]
  },
  {
   "cell_type": "code",
   "execution_count": 22,
   "id": "d0dc9758",
   "metadata": {},
   "outputs": [
    {
     "data": {
      "text/plain": [
       "array([[0., 0., 0., ..., 0., 0., 0.],\n",
       "       [0., 0., 0., ..., 0., 0., 0.],\n",
       "       [0., 0., 0., ..., 0., 0., 0.],\n",
       "       ...,\n",
       "       [0., 0., 0., ..., 0., 0., 0.],\n",
       "       [0., 0., 0., ..., 0., 0., 0.],\n",
       "       [0., 0., 0., ..., 0., 0., 0.]])"
      ]
     },
     "execution_count": 22,
     "metadata": {},
     "output_type": "execute_result"
    }
   ],
   "source": [
    "x_train_flat"
   ]
  },
  {
   "cell_type": "code",
   "execution_count": 40,
   "id": "3452b9b3",
   "metadata": {},
   "outputs": [],
   "source": [
    "#model building\n",
    "model=keras.Sequential([\n",
    "    keras.layers.Dense(10,input_shape=(784,),activation='sigmoid')\n",
    "])\n",
    "model.compile(\n",
    "optimizer=\"adam\",\n",
    "loss='sparse_categorical_crossentropy',\n",
    "metrics=['accuracy'])"
   ]
  },
  {
   "cell_type": "code",
   "execution_count": 41,
   "id": "c209ddc8",
   "metadata": {},
   "outputs": [
    {
     "name": "stdout",
     "output_type": "stream",
     "text": [
      "Epoch 1/10\n",
      "1875/1875 [==============================] - 1s 708us/step - loss: 0.4677 - accuracy: 0.8781\n",
      "Epoch 2/10\n",
      "1875/1875 [==============================] - 1s 626us/step - loss: 0.3040 - accuracy: 0.9154\n",
      "Epoch 3/10\n",
      "1875/1875 [==============================] - 1s 623us/step - loss: 0.2836 - accuracy: 0.9210\n",
      "Epoch 4/10\n",
      "1875/1875 [==============================] - 1s 636us/step - loss: 0.2732 - accuracy: 0.9239\n",
      "Epoch 5/10\n",
      "1875/1875 [==============================] - 1s 624us/step - loss: 0.2666 - accuracy: 0.9257\n",
      "Epoch 6/10\n",
      "1875/1875 [==============================] - 1s 676us/step - loss: 0.2620 - accuracy: 0.9268\n",
      "Epoch 7/10\n",
      "1875/1875 [==============================] - 1s 640us/step - loss: 0.2584 - accuracy: 0.9283\n",
      "Epoch 8/10\n",
      "1875/1875 [==============================] - 1s 636us/step - loss: 0.2549 - accuracy: 0.9293\n",
      "Epoch 9/10\n",
      "1875/1875 [==============================] - 1s 666us/step - loss: 0.2532 - accuracy: 0.9298\n",
      "Epoch 10/10\n",
      "1875/1875 [==============================] - 1s 667us/step - loss: 0.2512 - accuracy: 0.9305\n"
     ]
    },
    {
     "data": {
      "text/plain": [
       "<keras.callbacks.History at 0x176fe4f0fd0>"
      ]
     },
     "execution_count": 41,
     "metadata": {},
     "output_type": "execute_result"
    }
   ],
   "source": [
    "model.fit(x_train_flat,y_train,epochs=10)"
   ]
  },
  {
   "cell_type": "code",
   "execution_count": 42,
   "id": "5311ebb1",
   "metadata": {},
   "outputs": [
    {
     "name": "stdout",
     "output_type": "stream",
     "text": [
      "313/313 [==============================] - 0s 588us/step - loss: 0.2653 - accuracy: 0.9271\n"
     ]
    },
    {
     "data": {
      "text/plain": [
       "[0.2653232514858246, 0.9271000027656555]"
      ]
     },
     "execution_count": 42,
     "metadata": {},
     "output_type": "execute_result"
    }
   ],
   "source": [
    "#evaluting the  model\n",
    "model.evaluate(x_test_flat,y_test)"
   ]
  },
  {
   "cell_type": "code",
   "execution_count": 58,
   "id": "3cc02256",
   "metadata": {},
   "outputs": [
    {
     "data": {
      "text/plain": [
       "<matplotlib.image.AxesImage at 0x176fe3d0bb0>"
      ]
     },
     "execution_count": 58,
     "metadata": {},
     "output_type": "execute_result"
    },
    {
     "data": {
      "image/png": "[encoded data removed]",
      "text/plain": [
       "<Figure size 288x288 with 1 Axes>"
      ]
     },
     "metadata": {
      "needs_background": "light"
     },
     "output_type": "display_data"
    }
   ],
   "source": [
    "plt.matshow(x_test[1])"
   ]
  },
  {
   "cell_type": "code",
   "execution_count": 56,
   "id": "8dda7cad",
   "metadata": {},
   "outputs": [],
   "source": [
    "#testing and  evaluting  the model\n",
    "y_pred=model.predict( np.expand_dims(x_test_flat[1], axis=0))"
   ]
  },
  {
   "cell_type": "code",
   "execution_count": 57,
   "id": "a5b1cec8",
   "metadata": {},
   "outputs": [
    {
     "data": {
      "text/plain": [
       "2"
      ]
     },
     "execution_count": 57,
     "metadata": {},
     "output_type": "execute_result"
    }
   ],
   "source": [
    "#printing the  result for first value\n",
    "np.argmax(y_pred[0])"
   ]
  },
  {
   "cell_type": "code",
   "execution_count": 84,
   "id": "ebaa1075",
   "metadata": {},
   "outputs": [],
   "source": [
    "#model building with hidden  layer \n",
    "model_hidden=keras.Sequential([\n",
    "    keras.layers.Dense(100,input_shape=(784,),activation='relu'),\n",
    "    keras.layers.Dense(10,activation='sigmoid')\n",
    "    \n",
    "])\n",
    "model_hidden.compile(\n",
    "optimizer=\"adam\",\n",
    "loss='sparse_categorical_crossentropy',\n",
    "metrics=['accuracy'])"
   ]
  },
  {
   "cell_type": "code",
   "execution_count": 85,
   "id": "17b2823a",
   "metadata": {},
   "outputs": [
    {
     "name": "stdout",
     "output_type": "stream",
     "text": [
      "Epoch 1/20\n",
      "313/313 [==============================] - 0s 864us/step - loss: 0.5200 - accuracy: 0.8578\n",
      "Epoch 2/20\n",
      "313/313 [==============================] - 0s 950us/step - loss: 0.2398 - accuracy: 0.9312\n",
      "Epoch 3/20\n",
      "313/313 [==============================] - 0s 1ms/step - loss: 0.1788 - accuracy: 0.9458\n",
      "Epoch 4/20\n",
      "313/313 [==============================] - 0s 892us/step - loss: 0.1375 - accuracy: 0.9607\n",
      "Epoch 5/20\n",
      "313/313 [==============================] - 0s 870us/step - loss: 0.1083 - accuracy: 0.9693\n",
      "Epoch 6/20\n",
      "313/313 [==============================] - 0s 2ms/step - loss: 0.0874 - accuracy: 0.9733\n",
      "Epoch 7/20\n",
      "313/313 [==============================] - 0s 1ms/step - loss: 0.0692 - accuracy: 0.9793\n",
      "Epoch 8/20\n",
      "313/313 [==============================] - 0s 906us/step - loss: 0.0559 - accuracy: 0.9849\n",
      "Epoch 9/20\n",
      "313/313 [==============================] - 0s 895us/step - loss: 0.0423 - accuracy: 0.9889\n",
      "Epoch 10/20\n",
      "313/313 [==============================] - 0s 937us/step - loss: 0.0336 - accuracy: 0.9937\n",
      "Epoch 11/20\n",
      "313/313 [==============================] - 0s 902us/step - loss: 0.0261 - accuracy: 0.9958\n",
      "Epoch 12/20\n",
      "313/313 [==============================] - 0s 1ms/step - loss: 0.0206 - accuracy: 0.9975\n",
      "Epoch 13/20\n",
      "313/313 [==============================] - 0s 2ms/step - loss: 0.0169 - accuracy: 0.9984\n",
      "Epoch 14/20\n",
      "313/313 [==============================] - 0s 909us/step - loss: 0.0137 - accuracy: 0.9986\n",
      "Epoch 15/20\n",
      "313/313 [==============================] - 0s 917us/step - loss: 0.0121 - accuracy: 0.9987\n",
      "Epoch 16/20\n",
      "313/313 [==============================] - 0s 977us/step - loss: 0.0105 - accuracy: 0.9989\n",
      "Epoch 17/20\n",
      "313/313 [==============================] - 0s 924us/step - loss: 0.0071 - accuracy: 0.9999\n",
      "Epoch 18/20\n",
      "313/313 [==============================] - 0s 937us/step - loss: 0.0048 - accuracy: 0.9999\n",
      "Epoch 19/20\n",
      "313/313 [==============================] - 0s 915us/step - loss: 0.0042 - accuracy: 1.0000\n",
      "Epoch 20/20\n",
      "313/313 [==============================] - 0s 1ms/step - loss: 0.0034 - accuracy: 1.0000\n"
     ]
    },
    {
     "data": {
      "text/plain": [
       "<keras.callbacks.History at 0x176abd38ee0>"
      ]
     },
     "execution_count": 85,
     "metadata": {},
     "output_type": "execute_result"
    }
   ],
   "source": [
    "model_hidden.fit(x_test_flat,y_test,epochs=20)"
   ]
  },
  {
   "cell_type": "code",
   "execution_count": 86,
   "id": "d13a42c6",
   "metadata": {},
   "outputs": [
    {
     "name": "stdout",
     "output_type": "stream",
     "text": [
      "313/313 [==============================] - 0s 603us/step - loss: 0.0027 - accuracy: 1.0000\n"
     ]
    },
    {
     "data": {
      "text/plain": [
       "[0.0026832979638129473, 1.0]"
      ]
     },
     "execution_count": 86,
     "metadata": {},
     "output_type": "execute_result"
    }
   ],
   "source": [
    "#evaluting the  model\n",
    "model_hidden.evaluate(x_test_flat,y_test)"
   ]
  },
  {
   "cell_type": "code",
   "execution_count": 87,
   "id": "e65feb5c",
   "metadata": {},
   "outputs": [],
   "source": [
    "y_pred_hidden=model_hidden.predict(x_test_flat)"
   ]
  },
  {
   "cell_type": "code",
   "execution_count": 88,
   "id": "4006523a",
   "metadata": {},
   "outputs": [
    {
     "data": {
      "text/plain": [
       "array([7, 2, 1, ..., 4, 5, 6], dtype=uint8)"
      ]
     },
     "execution_count": 88,
     "metadata": {},
     "output_type": "execute_result"
    }
   ],
   "source": [
    "y_test"
   ]
  },
  {
   "cell_type": "code",
   "execution_count": 89,
   "id": "4e713ffd",
   "metadata": {},
   "outputs": [],
   "source": [
    "cf=tf.math.confusion_matrix(labels=y_test,predictions=[np.argmax(i) for i in y_pred_hidden])"
   ]
  },
  {
   "cell_type": "code",
   "execution_count": 90,
   "id": "c1f7bfe7",
   "metadata": {},
   "outputs": [
    {
     "data": {
      "text/plain": [
       "<AxesSubplot:>"
      ]
     },
     "execution_count": 90,
     "metadata": {},
     "output_type": "execute_result"
    },
    {
     "data": {
      "image/png": "[encoded data removed]",
      "text/plain": [
       "<Figure size 432x288 with 2 Axes>"
      ]
     },
     "metadata": {
      "needs_background": "light"
     },
     "output_type": "display_data"
    }
   ],
   "source": [
    "import seaborn  as  sns\n",
    "sns.heatmap(cf,annot=True)"
   ]
  }
 ],
 "metadata": {
  "kernelspec": {
   "display_name": "Python 3 (ipykernel)",
   "language": "python",
   "name": "python3"
  },
  "language_info": {
   "codemirror_mode": {
    "name": "ipython",
    "version": 3
   },
   "file_extension": ".py",
   "mimetype": "text/x-python",
   "name": "python",
   "nbconvert_exporter": "python",
   "pygments_lexer": "ipython3",
   "version": "3.9.7"
  }
 },
 "nbformat": 4,
 "nbformat_minor": 5
}
